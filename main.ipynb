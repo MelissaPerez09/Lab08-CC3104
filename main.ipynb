{
 "cells": [
  {
   "cell_type": "markdown",
   "id": "c25bb02f",
   "metadata": {},
   "source": [
    "# Laboratorio 8 - Gymnasium y DQN\n",
    "- Melissa Pérez Alarcón, 21385"
   ]
  },
  {
   "cell_type": "code",
   "execution_count": 1,
   "id": "29bea7c8",
   "metadata": {},
   "outputs": [],
   "source": [
    "import random\n",
    "import collections\n",
    "import math\n",
    "import os\n",
    "from typing import Deque, Tuple\n",
    "\n",
    "\n",
    "import gymnasium as gym\n",
    "import numpy as np\n",
    "import torch\n",
    "import torch.nn as nn\n",
    "import torch.optim as optim\n",
    "import matplotlib.pyplot as plt\n",
    "import imageio"
   ]
  },
  {
   "cell_type": "code",
   "execution_count": null,
   "id": "21b4edfe",
   "metadata": {},
   "outputs": [],
   "source": [
    "ENV_NAME = 'CartPole-v1'\n",
    "SEED = 42\n",
    "GAMMA = 0.99\n",
    "LR = 1e-3\n",
    "BATCH_SIZE = 64\n",
    "BUFFER_SIZE = 10000\n",
    "MIN_REPLAY_SIZE = 1000\n",
    "TARGET_UPDATE_FREQ = 1000 # steps\n",
    "MAX_EPISODES = 800\n",
    "MAX_STEPS_PER_EPISODE = 500\n",
    "EPS_START = 1.0\n",
    "EPS_END = 0.01\n",
    "EPS_DECAY = 50000\n",
    "DEVICE = torch.device('cuda' if torch.cuda.is_available() else 'cpu')"
   ]
  },
  {
   "cell_type": "code",
   "execution_count": 3,
   "id": "c95560a3",
   "metadata": {},
   "outputs": [
    {
     "data": {
      "text/plain": [
       "<torch._C.Generator at 0x1078b1b30>"
      ]
     },
     "execution_count": 3,
     "metadata": {},
     "output_type": "execute_result"
    }
   ],
   "source": [
    "random.seed(SEED)\n",
    "np.random.seed(SEED)\n",
    "torch.manual_seed(SEED)"
   ]
  },
  {
   "cell_type": "code",
   "execution_count": 5,
   "id": "8e79d7d9",
   "metadata": {},
   "outputs": [],
   "source": [
    "Transition = collections.namedtuple('Transition', ('state', 'action', 'reward', 'next_state', 'done'))\n",
    "\n",
    "\n",
    "class ReplayBuffer:\n",
    "    def __init__(self, capacity: int):\n",
    "        self.buffer: Deque[Transition] = collections.deque(maxlen=capacity)\n",
    "\n",
    "\n",
    "        def push(self, *args):\n",
    "            self.buffer.append(Transition(*args))\n",
    "\n",
    "\n",
    "        def sample(self, batch_size: int):\n",
    "            batch = random.sample(self.buffer, batch_size)\n",
    "            states = torch.tensor(np.array([t.state for t in batch]), dtype=torch.float32, device=DEVICE)\n",
    "            actions = torch.tensor([t.action for t in batch], dtype=torch.int64, device=DEVICE).unsqueeze(1)\n",
    "            rewards = torch.tensor([t.reward for t in batch], dtype=torch.float32, device=DEVICE).unsqueeze(1)\n",
    "            next_states = torch.tensor(np.array([t.next_state for t in batch]), dtype=torch.float32, device=DEVICE)\n",
    "            dones = torch.tensor([t.done for t in batch], dtype=torch.float32, device=DEVICE).unsqueeze(1)\n",
    "            return states, actions, rewards, next_states, dones\n",
    "\n",
    "\n",
    "        def __len__(self):\n",
    "            return len(self.buffer)"
   ]
  }
 ],
 "metadata": {
  "kernelspec": {
   "display_name": ".venv (3.13.0)",
   "language": "python",
   "name": "python3"
  },
  "language_info": {
   "codemirror_mode": {
    "name": "ipython",
    "version": 3
   },
   "file_extension": ".py",
   "mimetype": "text/x-python",
   "name": "python",
   "nbconvert_exporter": "python",
   "pygments_lexer": "ipython3",
   "version": "3.13.0"
  }
 },
 "nbformat": 4,
 "nbformat_minor": 5
}
